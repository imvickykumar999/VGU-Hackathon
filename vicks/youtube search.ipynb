{
 "cells": [
  {
   "cell_type": "code",
   "execution_count": 1,
   "metadata": {
    "scrolled": true
   },
   "outputs": [
    {
     "name": "stdout",
     "output_type": "stream",
     "text": [
      "('{\"videos\": [{\"id\": \"kJQP7kiw5Fk\", \"thumbnails\": '\n",
      " '[\"https://i.ytimg.com/vi/kJQP7kiw5Fk/hq720.jpg?sqp=-oaymwEjCOgCEMoBSFryq4qpAxUIARUAAAAAGAElAADIQj0AgKJDeAE=&rs=AOn4CLCj96Jh8NkTqgJqkcXFQKo7MnO30g\", '\n",
      " '\"https://i.ytimg.com/vi/kJQP7kiw5Fk/hq720.jpg?sqp=-oaymwEXCNAFEJQDSFryq4qpAwkIARUAAIhCGAE=&rs=AOn4CLBH3EhyCr_aZDODXzXVDL-taforQw\"], '\n",
      " '\"title\": \"Luis Fonsi - Despacito ft. Daddy Yankee\", \"long_desc\": null, '\n",
      " '\"channel\": \"Luis Fonsi\", \"duration\": \"4:42\", \"views\": \"7,368,118,370 views\", '\n",
      " '\"publish_time\": \"4 years ago\", \"url_suffix\": \"/watch?v=kJQP7kiw5Fk\"}, {\"id\": '\n",
      " '\"whwe0KD_rGw\", \"thumbnails\": '\n",
      " '[\"https://i.ytimg.com/vi/whwe0KD_rGw/hq720.jpg?sqp=-oaymwEjCOgCEMoBSFryq4qpAxUIARUAAAAAGAElAADIQj0AgKJDeAE=&rs=AOn4CLCEk39Ta5je1hL46hox-cVPoZR1xw\", '\n",
      " '\"https://i.ytimg.com/vi/whwe0KD_rGw/hq720.jpg?sqp=-oaymwEXCNAFEJQDSFryq4qpAwkIARUAAIhCGAE=&rs=AOn4CLCQQJ7FBOEUgk2XYR-5xlQkELUYWQ\"], '\n",
      " '\"title\": \"Justin Bieber \\\\u2013 Despacito (Lyrics) \\\\ud83c\\\\udfa4 ft. Luis '\n",
      " 'Fonsi & Daddy Yankee [Pop]\", \"long_desc\": null, \"channel\": \"Taz Network\", '\n",
      " '\"duration\": \"3:51\", \"views\": \"323,608,431 views\", \"publish_time\": \"4 years '\n",
      " 'ago\", \"url_suffix\": \"/watch?v=whwe0KD_rGw\"}, {\"id\": \"gm3-m2CFVWM\", '\n",
      " '\"thumbnails\": '\n",
      " '[\"https://i.ytimg.com/vi/gm3-m2CFVWM/hq720.jpg?sqp=-oaymwEjCOgCEMoBSFryq4qpAxUIARUAAAAAGAElAADIQj0AgKJDeAE=&rs=AOn4CLA7gwdGhun32DEYKDskbUGGA0BuQQ\", '\n",
      " '\"https://i.ytimg.com/vi/gm3-m2CFVWM/hq720.jpg?sqp=-oaymwEXCNAFEJQDSFryq4qpAwkIARUAAIhCGAE=&rs=AOn4CLAqCpaf17QOuwQXDh6Tuy5u-H44fg\"], '\n",
      " '\"title\": \"Luis Fonsi \\\\u2012 Despacito (Lyrics / Lyric Video) ft. Daddy '\n",
      " 'Yankee\", \"long_desc\": null, \"channel\": \"Taz Network\", \"duration\": \"4:01\", '\n",
      " '\"views\": \"9,237,444 views\", \"publish_time\": \"3 years ago\", \"url_suffix\": '\n",
      " '\"/watch?v=gm3-m2CFVWM\"}, {\"id\": \"mnvagBdO128\", \"thumbnails\": '\n",
      " '[\"https://i.ytimg.com/vi/mnvagBdO128/hq720.jpg?sqp=-oaymwEjCOgCEMoBSFryq4qpAxUIARUAAAAAGAElAADIQj0AgKJDeAE=&rs=AOn4CLBrF7HXYEx19bCf80qCe4z_6468rQ\", '\n",
      " '\"https://i.ytimg.com/vi/mnvagBdO128/hq720.jpg?sqp=-oaymwEXCNAFEJQDSFryq4qpAwkIARUAAIhCGAE=&rs=AOn4CLATY8MUhzlYaNR_2MwMHioBHLqK6g\"], '\n",
      " '\"title\": \"Justin Bieber - Despacito (Lyrics) ft. Luis Fonsi & Daddy Yankee\", '\n",
      " '\"long_desc\": null, \"channel\": \"Royal Music\", \"duration\": \"4:12\", \"views\": '\n",
      " '\"34,516,097 views\", \"publish_time\": \"3 years ago\", \"url_suffix\": '\n",
      " '\"/watch?v=mnvagBdO128\"}, {\"id\": \"TfkP5ubz1z4\", \"thumbnails\": '\n",
      " '[\"https://i.ytimg.com/vi/TfkP5ubz1z4/hq720.jpg?sqp=-oaymwEjCOgCEMoBSFryq4qpAxUIARUAAAAAGAElAADIQj0AgKJDeAE=&rs=AOn4CLC9x3uO8o5lr0MSoqWdjhAfSJYHzQ\", '\n",
      " '\"https://i.ytimg.com/vi/TfkP5ubz1z4/hq720.jpg?sqp=-oaymwEXCNAFEJQDSFryq4qpAwkIARUAAIhCGAE=&rs=AOn4CLACKWEvkQvv39DSU30GNJaGKuDKdg\"], '\n",
      " '\"title\": \"Justin Bieber - Despacito (Lyrics / Letra) ft. Luis Fonsi & Daddy '\n",
      " 'Yankee\", \"long_desc\": null, \"channel\": \"7clouds\", \"duration\": \"3:51\", '\n",
      " '\"views\": \"25,359,688 views\", \"publish_time\": \"1 year ago\", \"url_suffix\": '\n",
      " '\"/watch?v=TfkP5ubz1z4\"}, {\"id\": \"YhEchP5914A\", \"thumbnails\": '\n",
      " '[\"https://i.ytimg.com/vi/YhEchP5914A/hqdefault.jpg?sqp=-oaymwEjCOADEI4CSFryq4qpAxUIARUAAAAAGAElAADIQj0AgKJDeAE=&rs=AOn4CLAe75hyiq0nbueJprV8s4l-fV_syw\"], '\n",
      " '\"title\": \"Justin Bieber - Despacito\", \"long_desc\": null, \"channel\": \"F '\n",
      " 'Tune\", \"duration\": \"3:31\", \"views\": \"5,151,207 views\", \"publish_time\": \"3 '\n",
      " 'years ago\", \"url_suffix\": \"/watch?v=YhEchP5914A\"}, {\"id\": \"72UO0v5ESUo\", '\n",
      " '\"thumbnails\": '\n",
      " '[\"https://i.ytimg.com/vi/72UO0v5ESUo/hq720.jpg?sqp=-oaymwEjCOgCEMoBSFryq4qpAxUIARUAAAAAGAElAADIQj0AgKJDeAE=&rs=AOn4CLAlMae3vp7k5FvrVlfkmCURaMIfAg\", '\n",
      " '\"https://i.ytimg.com/vi/72UO0v5ESUo/hq720.jpg?sqp=-oaymwEXCNAFEJQDSFryq4qpAwkIARUAAIhCGAE=&rs=AOn4CLDPDBbvefRfrx-WG9AKH-sP2XtCRA\"], '\n",
      " '\"title\": \"Luis Fonsi, Daddy Yankee - Despacito (Remix) (Official Audio) ft. '\n",
      " 'Justin Bieber\", \"long_desc\": null, \"channel\": \"Luis Fonsi\", \"duration\": '\n",
      " '\"3:49\", \"views\": \"664,642,301 views\", \"publish_time\": \"4 years ago\", '\n",
      " '\"url_suffix\": \"/watch?v=72UO0v5ESUo\"}, {\"id\": \"XS3HnxWC2r0\", \"thumbnails\": '\n",
      " '[\"https://i.ytimg.com/vi/XS3HnxWC2r0/hqdefault.jpg?sqp=-oaymwEjCOADEI4CSFryq4qpAxUIARUAAAAAGAElAADIQj0AgKJDeAE=&rs=AOn4CLDXSUjkD9zE0xe6m2uAOTgLKWjZ6g\"], '\n",
      " '\"title\": \"Despacito | How the baby born | Cute funny baby\", \"long_desc\": '\n",
      " 'null, \"channel\": \"Rajat Asthana\", \"duration\": \"1:50\", \"views\": \"126,941,999 '\n",
      " 'views\", \"publish_time\": \"3 years ago\", \"url_suffix\": '\n",
      " '\"/watch?v=XS3HnxWC2r0\"}, {\"id\": \"5SPIftJfvnE\", \"thumbnails\": '\n",
      " '[\"https://i.ytimg.com/vi/5SPIftJfvnE/hq720.jpg?sqp=-oaymwEjCOgCEMoBSFryq4qpAxUIARUAAAAAGAElAADIQj0AgKJDeAE=&rs=AOn4CLCn3xVYufGn6Aug3cSy0v7viv9DOg\", '\n",
      " '\"https://i.ytimg.com/vi/5SPIftJfvnE/hq720.jpg?sqp=-oaymwEXCNAFEJQDSFryq4qpAwkIARUAAIhCGAE=&rs=AOn4CLAZuYjzMqRozm3l9g0NL6niOoPWEQ\"], '\n",
      " '\"title\": \"Ayden sings \\'Despacito\\' by Luis Fonsi ft. Daddy Yankee | The '\n",
      " 'Voice Stage #5\", \"long_desc\": null, \"channel\": \"Best of The Voice\", '\n",
      " '\"duration\": \"6:06\", \"views\": \"13,827,565 views\", \"publish_time\": \"1 year '\n",
      " 'ago\", \"url_suffix\": \"/watch?v=5SPIftJfvnE\"}, {\"id\": \"r3LiyKA4gqs\", '\n",
      " '\"thumbnails\": '\n",
      " '[\"https://i.ytimg.com/vi/r3LiyKA4gqs/hq720.jpg?sqp=-oaymwEjCOgCEMoBSFryq4qpAxUIARUAAAAAGAElAADIQj0AgKJDeAE=&rs=AOn4CLDw_auGc2djzT5uNhXfBOJAhdq0ig\", '\n",
      " '\"https://i.ytimg.com/vi/r3LiyKA4gqs/hq720.jpg?sqp=-oaymwEXCNAFEJQDSFryq4qpAwkIARUAAIhCGAE=&rs=AOn4CLD4XTNlB2fk7t0-5A-d3m9yuU3wJw\"], '\n",
      " '\"title\": \"Despacito messy Mashup (Shape of You, Faded, Treat you Better) - '\n",
      " 'Luciana Zogbi\", \"long_desc\": null, \"channel\": \"Luciana Zogbi\", \"duration\": '\n",
      " '\"3:50\", \"views\": \"56,087,899 views\", \"publish_time\": \"3 years ago\", '\n",
      " '\"url_suffix\": \"/watch?v=r3LiyKA4gqs\"}]}')\n"
     ]
    }
   ],
   "source": [
    "from youtube_search import YoutubeSearch\n",
    "from pprint import pprint as p\n",
    "results = YoutubeSearch('despacito', max_results=10).to_json()\n",
    "\n",
    "p(results) "
   ]
  },
  {
   "cell_type": "code",
   "execution_count": 2,
   "metadata": {},
   "outputs": [],
   "source": [
    "# !pip install youtube-search"
   ]
  },
  {
   "cell_type": "code",
   "execution_count": 3,
   "metadata": {},
   "outputs": [
    {
     "name": "stdout",
     "output_type": "stream",
     "text": [
      "[{'channel': 'Vicky Kumar',\n",
      "  'duration': '23:40',\n",
      "  'id': 'eeZB80pLPP8',\n",
      "  'long_desc': None,\n",
      "  'publish_time': '8 months ago',\n",
      "  'thumbnails': ['https://i.ytimg.com/vi/eeZB80pLPP8/hq720.jpg?sqp=-oaymwEjCOgCEMoBSFryq4qpAxUIARUAAAAAGAElAADIQj0AgKJDeAE=&rs=AOn4CLCErxpa7k1PXdZr4fYPMcJvwXsXZQ',\n",
      "                 'https://i.ytimg.com/vi/eeZB80pLPP8/hq720.jpg?sqp=-oaymwEXCNAFEJQDSFryq4qpAwkIARUAAIhCGAE=&rs=AOn4CLB2j_RrdnaXBg1JUdbfJBqJXuKlUQ'],\n",
      "  'title': 'Vixtor Python Package || Helpful functions in solving 3D vector || '\n",
      "           '#imvickykumar999 || Explained',\n",
      "  'url_suffix': '/watch?v=eeZB80pLPP8',\n",
      "  'views': '107 views'},\n",
      " {'channel': 'Vicky Kumar',\n",
      "  'duration': '4:51',\n",
      "  'id': 'yXe-vCPSC-o',\n",
      "  'long_desc': None,\n",
      "  'publish_time': '2 weeks ago',\n",
      "  'thumbnails': ['https://i.ytimg.com/vi/yXe-vCPSC-o/hqdefault.jpg?sqp=-oaymwEjCOADEI4CSFryq4qpAxUIARUAAAAAGAElAADIQj0AgKJDeAE=&rs=AOn4CLBdcfb6oYSbFhSB5sg1GJTMPK4FPA'],\n",
      "  'title': 'Github || Create Home Automation || Fully Explained || ESP32 || Ok '\n",
      "           'Google || #imvickykumar999',\n",
      "  'url_suffix': '/watch?v=yXe-vCPSC-o',\n",
      "  'views': 'No views'}]\n"
     ]
    }
   ],
   "source": [
    "from youtube_search import YoutubeSearch\n",
    "from pprint import pprint as p\n",
    "\n",
    "results = YoutubeSearch('imvickykumar999', max_results=2).to_dict()\n",
    "p(results) "
   ]
  },
  {
   "cell_type": "code",
   "execution_count": 4,
   "metadata": {},
   "outputs": [
    {
     "data": {
      "text/html": [
       "<div>\n",
       "<style scoped>\n",
       "    .dataframe tbody tr th:only-of-type {\n",
       "        vertical-align: middle;\n",
       "    }\n",
       "\n",
       "    .dataframe tbody tr th {\n",
       "        vertical-align: top;\n",
       "    }\n",
       "\n",
       "    .dataframe thead th {\n",
       "        text-align: right;\n",
       "    }\n",
       "</style>\n",
       "<table border=\"1\" class=\"dataframe\">\n",
       "  <thead>\n",
       "    <tr style=\"text-align: right;\">\n",
       "      <th></th>\n",
       "      <th>id</th>\n",
       "      <th>thumbnails</th>\n",
       "      <th>title</th>\n",
       "      <th>long_desc</th>\n",
       "      <th>channel</th>\n",
       "      <th>duration</th>\n",
       "      <th>views</th>\n",
       "      <th>publish_time</th>\n",
       "      <th>url_suffix</th>\n",
       "    </tr>\n",
       "  </thead>\n",
       "  <tbody>\n",
       "    <tr>\n",
       "      <th>1</th>\n",
       "      <td>eeZB80pLPP8</td>\n",
       "      <td>[https://i.ytimg.com/vi/eeZB80pLPP8/hq720.jpg?...</td>\n",
       "      <td>Vixtor Python Package || Helpful functions in ...</td>\n",
       "      <td>None</td>\n",
       "      <td>Vicky Kumar</td>\n",
       "      <td>23:40</td>\n",
       "      <td>107 views</td>\n",
       "      <td>8 months ago</td>\n",
       "      <td>/watch?v=eeZB80pLPP8</td>\n",
       "    </tr>\n",
       "    <tr>\n",
       "      <th>2</th>\n",
       "      <td>yXe-vCPSC-o</td>\n",
       "      <td>[https://i.ytimg.com/vi/yXe-vCPSC-o/hqdefault....</td>\n",
       "      <td>Github || Create Home Automation || Fully Expl...</td>\n",
       "      <td>None</td>\n",
       "      <td>Vicky Kumar</td>\n",
       "      <td>4:51</td>\n",
       "      <td>No views</td>\n",
       "      <td>2 weeks ago</td>\n",
       "      <td>/watch?v=yXe-vCPSC-o</td>\n",
       "    </tr>\n",
       "  </tbody>\n",
       "</table>\n",
       "</div>"
      ],
      "text/plain": [
       "            id                                         thumbnails  \\\n",
       "1  eeZB80pLPP8  [https://i.ytimg.com/vi/eeZB80pLPP8/hq720.jpg?...   \n",
       "2  yXe-vCPSC-o  [https://i.ytimg.com/vi/yXe-vCPSC-o/hqdefault....   \n",
       "\n",
       "                                               title long_desc      channel  \\\n",
       "1  Vixtor Python Package || Helpful functions in ...      None  Vicky Kumar   \n",
       "2  Github || Create Home Automation || Fully Expl...      None  Vicky Kumar   \n",
       "\n",
       "  duration      views  publish_time            url_suffix  \n",
       "1    23:40  107 views  8 months ago  /watch?v=eeZB80pLPP8  \n",
       "2     4:51   No views   2 weeks ago  /watch?v=yXe-vCPSC-o  "
      ]
     },
     "execution_count": 4,
     "metadata": {},
     "output_type": "execute_result"
    }
   ],
   "source": [
    "import pandas as pd\n",
    "\n",
    "df = pd.DataFrame(results) \n",
    "df.index += 1\n",
    "\n",
    "pd.DataFrame.from_dict(df) "
   ]
  },
  {
   "cell_type": "code",
   "execution_count": 5,
   "metadata": {},
   "outputs": [],
   "source": [
    "df.to_csv('youtube search result.csv', index_label='Event_id')  "
   ]
  },
  {
   "cell_type": "code",
   "execution_count": 6,
   "metadata": {},
   "outputs": [
    {
     "data": {
      "text/plain": [
       "'https://www.youtube.com/watch?v=uVJf5wuPpyw'"
      ]
     },
     "execution_count": 6,
     "metadata": {},
     "output_type": "execute_result"
    }
   ],
   "source": [
    "# !pip install youtube-search\n",
    "from youtube_search import YoutubeSearch\n",
    "vid = YoutubeSearch('Vixtor Python Package', max_results = 1).to_dict()[0]['id']\n",
    "video = f'https://www.youtube.com/watch?v={vid}'\n",
    "video"
   ]
  },
  {
   "cell_type": "code",
   "execution_count": 7,
   "metadata": {},
   "outputs": [],
   "source": [
    "import ytc\n",
    "from youtube_search import YoutubeSearch\n",
    "\n",
    "# url = 'https://www.youtube.com/watch?v=kJQP7kiw5Fk'\n",
    "url = 'tom and jerry'\n",
    "s = url.split('/')\n",
    "\n",
    "if s[0] != 'https:':\n",
    "    vid = YoutubeSearch(s[0], max_results = 1).to_dict()[-1]['id']\n",
    "else:\n",
    "    if s[2] == 'www.youtube.com':\n",
    "        vid = s[3].split('=')[1].split('?')[0]\n",
    "    elif s[2] == 'youtu.be':\n",
    "        vid = s[3].split('?')[0]\n",
    "    else:\n",
    "        vid = 'Cpc_rHf1U6g'\n",
    "        print(\"Sorry... Code couldn't be extracted !!!\")\n",
    "\n",
    "try:\n",
    "    com = ytc.comments(vid) \n",
    "    print(com)\n",
    "except:\n",
    "    com = {\n",
    "        \"domain\": [\"youtube.commentThread\"],\n",
    "        \"reason\": [\"commentsDisabled\"],\n",
    "        \"location\": [\"videoId\"],\n",
    "        \"locationType\": [\"parameter\"]\n",
    "    } "
   ]
  },
  {
   "cell_type": "code",
   "execution_count": 8,
   "metadata": {
    "scrolled": true
   },
   "outputs": [
    {
     "name": "stdout",
     "output_type": "stream",
     "text": [
      "\n",
      " domain\n",
      "...\t youtube.commentThread\n",
      "\n",
      " reason\n",
      "...\t commentsDisabled\n",
      "\n",
      " location\n",
      "...\t videoId\n",
      "\n",
      " locationType\n",
      "...\t parameter\n"
     ]
    }
   ],
   "source": [
    "for i,j in com.items():\n",
    "    print('\\n', i) \n",
    "    for k in j:\n",
    "        print('...\\t', k) "
   ]
  },
  {
   "cell_type": "code",
   "execution_count": 9,
   "metadata": {},
   "outputs": [
    {
     "data": {
      "text/plain": [
       "{'error': {'code': 403,\n",
       "  'message': 'The video identified by the <code><a href=\"/youtube/v3/docs/commentThreads/list#videoId\">videoId</a></code> parameter has disabled comments.',\n",
       "  'errors': [{'message': 'The video identified by the <code><a href=\"/youtube/v3/docs/commentThreads/list#videoId\">videoId</a></code> parameter has disabled comments.',\n",
       "    'domain': 'youtube.commentThread',\n",
       "    'reason': 'commentsDisabled',\n",
       "    'location': 'videoId',\n",
       "    'locationType': 'parameter'}]}}"
      ]
     },
     "execution_count": 9,
     "metadata": {},
     "output_type": "execute_result"
    }
   ],
   "source": [
    "e = {\n",
    "  \"error\": {\n",
    "    \"code\": 403,\n",
    "    \"message\": \"The video identified by the \\u003ccode\\u003e\\u003ca href=\\\"/youtube/v3/docs/commentThreads/list#videoId\\\"\\u003evideoId\\u003c/a\\u003e\\u003c/code\\u003e parameter has disabled comments.\",\n",
    "    \"errors\": [\n",
    "      {\n",
    "        \"message\": \"The video identified by the \\u003ccode\\u003e\\u003ca href=\\\"/youtube/v3/docs/commentThreads/list#videoId\\\"\\u003evideoId\\u003c/a\\u003e\\u003c/code\\u003e parameter has disabled comments.\",\n",
    "        \"domain\": \"youtube.commentThread\",\n",
    "        \"reason\": \"commentsDisabled\",\n",
    "        \"location\": \"videoId\",\n",
    "        \"locationType\": \"parameter\"\n",
    "      }\n",
    "    ]\n",
    "  }\n",
    "}\n",
    "\n",
    "e"
   ]
  },
  {
   "cell_type": "code",
   "execution_count": null,
   "metadata": {},
   "outputs": [],
   "source": []
  },
  {
   "cell_type": "code",
   "execution_count": null,
   "metadata": {},
   "outputs": [],
   "source": []
  }
 ],
 "metadata": {
  "kernelspec": {
   "display_name": "Python 3",
   "language": "python",
   "name": "python3"
  },
  "language_info": {
   "codemirror_mode": {
    "name": "ipython",
    "version": 3
   },
   "file_extension": ".py",
   "mimetype": "text/x-python",
   "name": "python",
   "nbconvert_exporter": "python",
   "pygments_lexer": "ipython3",
   "version": "3.8.3"
  }
 },
 "nbformat": 4,
 "nbformat_minor": 4
}
